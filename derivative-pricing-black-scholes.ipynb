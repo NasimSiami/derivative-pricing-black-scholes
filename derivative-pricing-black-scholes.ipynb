{
 "cells": [
  {
   "attachments": {},
   "cell_type": "markdown",
   "metadata": {},
   "source": [
    "**Derivative Pricing Project**\n",
    "\n",
    "*FINA60211A.A2023*\n",
    "\n",
    "\n",
    "Nasim Siami\n",
    "\n",
    "\n",
    "11306186\n"
   ]
  },
  {
   "cell_type": "code",
   "execution_count": null,
   "metadata": {},
   "outputs": [],
   "source": [
    "# Importing required libraries \n",
    "import pandas as pd\n",
    "import numpy as np\n",
    "import matplotlib.pyplot as plt\n",
    "#from linearmodels import PanelOLS\n",
    "#import statsmodels.api as sm\n",
    "import matplotlib.ticker as ticker\n",
    "from scipy.stats import norm\n",
    "from tabulate import tabulate"
   ]
  },
  {
   "cell_type": "code",
   "execution_count": 2,
   "metadata": {},
   "outputs": [],
   "source": [
    "\n",
    "#derivative = pd.read_csv('theme9b.csv')\n"
   ]
  },
  {
   "attachments": {},
   "cell_type": "markdown",
   "metadata": {},
   "source": [
    "**Question 1**"
   ]
  },
  {
   "cell_type": "code",
   "execution_count": 3,
   "metadata": {},
   "outputs": [],
   "source": [
    "\n",
    "#Function for BS Put \n",
    "def BSPut(x0, K, sigma, r, T, rf):\n",
    "    d1 = (np.log(x0 / K) + (r - rf + 0.5 * sigma**2) * T) / (sigma * np.sqrt(T))\n",
    "    d2 = d1 - sigma * np.sqrt(T)\n",
    "\n",
    "    put_price = K * np.exp(-r * T) * norm.cdf(-d2) - x0 * np.exp(-rf * T) * norm.cdf(-d1)\n",
    "    \n",
    "    return put_price\n",
    "\n"
   ]
  },
  {
   "cell_type": "code",
   "execution_count": 4,
   "metadata": {},
   "outputs": [
    {
     "name": "stdout",
     "output_type": "stream",
     "text": [
      "[0.083, 0.167, 0.25, 0.333, 0.417, 0.5, 0.583, 0.667, 0.75, 0.833, 0.917, 1.0]\n"
     ]
    }
   ],
   "source": [
    "# Time points\n",
    "T_values = [1/12 + i/12 for i in range(12)]\n",
    "# Round each element to 3 decimals\n",
    "rounded_T_values = [round(value, 3) for value in T_values]\n",
    "\n",
    "# Print the result\n",
    "print(rounded_T_values)"
   ]
  },
  {
   "cell_type": "code",
   "execution_count": 5,
   "metadata": {},
   "outputs": [],
   "source": [
    "# Parameters\n",
    "x0 = 1.33\n",
    "K = 1.33\n",
    "sigma = 0.1\n",
    "r = 0.02\n",
    "rf = 0.01\n",
    "N = 12\n",
    "h = 0.0833\n",
    "ntraj = 20000"
   ]
  },
  {
   "cell_type": "code",
   "execution_count": 6,
   "metadata": {},
   "outputs": [],
   "source": [
    "\n",
    "# Individual put price European (each for 100 CAD/USD)\n",
    "\n",
    "individual_put_prices = [100 * BSPut(x0, K, sigma, r, T, rf) for T in T_values]\n",
    "rounded_individual_put_prices = [round(price, 4) for price in individual_put_prices]\n"
   ]
  },
  {
   "cell_type": "code",
   "execution_count": 7,
   "metadata": {},
   "outputs": [
    {
     "data": {
      "text/plain": [
       "[1.475014185089174,\n",
       " 2.0518233045935252,\n",
       " 2.480437248472267,\n",
       " 2.8321991624853715,\n",
       " 3.134769461888287,\n",
       " 3.40234697471693,\n",
       " 3.643373975038744,\n",
       " 3.8633559233680725,\n",
       " 4.066120274244033,\n",
       " 4.254456200096524,\n",
       " 4.4304711245432005,\n",
       " 4.595803717392877]"
      ]
     },
     "execution_count": 7,
     "metadata": {},
     "output_type": "execute_result"
    }
   ],
   "source": [
    "individual_put_prices"
   ]
  },
  {
   "cell_type": "code",
   "execution_count": 8,
   "metadata": {},
   "outputs": [
    {
     "data": {
      "text/plain": [
       "40.230171551929004"
      ]
     },
     "execution_count": 8,
     "metadata": {},
     "output_type": "execute_result"
    }
   ],
   "source": [
    "# Total cost of European puts\n",
    "total_cost_european_puts = sum(individual_put_prices)\n",
    "total_cost_european_puts"
   ]
  },
  {
   "cell_type": "code",
   "execution_count": 9,
   "metadata": {},
   "outputs": [
    {
     "name": "stdout",
     "output_type": "stream",
     "text": [
      "Estimated Asian Put Option Price (for 12 x 100 CAD/USD): 33.70543435787395\n"
     ]
    }
   ],
   "source": [
    "#Function for Asian_put_option_price\n",
    "def simulate_paths(x0, r, sigma, T, ntraj, N):\n",
    "    paths = np.zeros((ntraj, N + 1))\n",
    "    paths[:, 0] = x0\n",
    "\n",
    "    for i in range(1, N + 1):\n",
    "        dW = np.random.normal(0, np.sqrt(h), size=ntraj)\n",
    "        paths[:, i] = paths[:, i - 1] * np.exp((r- rf- 0.5 * sigma**2) * h + sigma * dW)\n",
    "\n",
    "    return paths\n",
    "\n",
    "def asian_put_option_price(x0, K, sigma, r, rf, T, ntraj, N):\n",
    "    paths = simulate_paths(x0, r, sigma, T, ntraj, N)\n",
    "    \n",
    "    asian_avg = np.mean(paths[:, 1:], axis=1)\n",
    "    payoff = np.maximum(K - asian_avg, 0)\n",
    "    \n",
    "    discount_factor = np.exp(-r * T)\n",
    "    option_price = discount_factor * np.mean(payoff)\n",
    "    return option_price\n",
    "\n",
    "# Parameters\n",
    "x0 = 1.33\n",
    "K = 1.33\n",
    "sigma = 0.1\n",
    "r = 0.02\n",
    "rf = 0.01\n",
    "T = 1\n",
    "N = 12\n",
    "h = T / N\n",
    "ntraj = 20000\n",
    "\n",
    "# Calculate Asian put option price\n",
    "asian_put_price  =  asian_put_option_price(x0, K, sigma, r, rf, T, ntraj, N)\n",
    "asian_put_price_all=12*100*asian_put_option_price(x0, K, sigma, r, rf, T, ntraj, N)\n",
    "print(\"Estimated Asian Put Option Price (for 12 x 100 CAD/USD):\",(asian_put_price_all))\n",
    "\n"
   ]
  },
  {
   "cell_type": "code",
   "execution_count": 10,
   "metadata": {},
   "outputs": [
    {
     "name": "stdout",
     "output_type": "stream",
     "text": [
      "Individual put prices for European options: [1.475014185089174, 2.0518233045935252, 2.480437248472267, 2.8321991624853715, 3.134769461888287, 3.40234697471693, 3.643373975038744, 3.8633559233680725, 4.066120274244033, 4.254456200096524, 4.4304711245432005, 4.595803717392877]\n",
      "Individual put prices for European options: [1.475, 2.0518, 2.4804, 2.8322, 3.1348, 3.4023, 3.6434, 3.8634, 4.0661, 4.2545, 4.4305, 4.5958]\n",
      "Total cost of European puts: 40.23\n",
      "Cost of an Asian put (for 12 x 100 CAD/USD): 33.71\n",
      "tVALUES: <built-in function round>\n"
     ]
    }
   ],
   "source": [
    "#part 1)A\n",
    "print(\"Individual put prices for European options:\", individual_put_prices)\n",
    "print(\"Individual put prices for European options:\", rounded_individual_put_prices)\n",
    "print(\"Total cost of European puts:\", round(total_cost_european_puts,2))\n",
    "print(\"Cost of an Asian put (for 12 x 100 CAD/USD):\",  round(asian_put_price_all, 2))\n",
    "print(\"tVALUES:\",  round)\n"
   ]
  },
  {
   "cell_type": "code",
   "execution_count": 11,
   "metadata": {},
   "outputs": [
    {
     "name": "stdout",
     "output_type": "stream",
     "text": [
      "╒═════════════════════════════════════════════╤═════════════════════════════════════════════════════════════════════════════════════════════════╕\n",
      "│ Description                                 │ Values                                                                                          │\n",
      "╞═════════════════════════════════════════════╪═════════════════════════════════════════════════════════════════════════════════════════════════╡\n",
      "│ Individual put prices for European options  │ [1.475, 2.0518, 2.4804, 2.8322, 3.1348, 3.4023, 3.6434, 3.8634, 4.0661, 4.2545, 4.4305, 4.5958] │\n",
      "├─────────────────────────────────────────────┼─────────────────────────────────────────────────────────────────────────────────────────────────┤\n",
      "│ Total cost of European puts                 │ 40.23                                                                                           │\n",
      "├─────────────────────────────────────────────┼─────────────────────────────────────────────────────────────────────────────────────────────────┤\n",
      "│ Cost of an Asian put (for 12 x 100 CAD/USD) │ 33.71                                                                                           │\n",
      "╘═════════════════════════════════════════════╧═════════════════════════════════════════════════════════════════════════════════════════════════╛\n"
     ]
    }
   ],
   "source": [
    "# Create a table\n",
    "table_data = [\n",
    "    [\"Individual put prices for European options\", rounded_individual_put_prices],\n",
    "    [\"Total cost of European puts\", round(total_cost_european_puts, 2)],\n",
    "    [\"Cost of an Asian put (for 12 x 100 CAD/USD)\", round(asian_put_price_all, 2)],\n",
    "    \n",
    "]\n",
    "\n",
    "# Display the table\n",
    "table = tabulate(table_data, headers=[\"Description\", \"Values\"], tablefmt=\"fancy_grid\")\n",
    "print(table)"
   ]
  },
  {
   "attachments": {},
   "cell_type": "markdown",
   "metadata": {},
   "source": [
    "**Question 1- Second part**"
   ]
  },
  {
   "cell_type": "code",
   "execution_count": 12,
   "metadata": {},
   "outputs": [
    {
     "name": "stdout",
     "output_type": "stream",
     "text": [
      "Sample Variance: 0.004614465366284417\n"
     ]
    }
   ],
   "source": [
    "\n",
    "#again define the function so we have array of discounted cash flows for getting the variance !\n",
    "def asian_put_option_price_for_var(x0, K, sigma, r, T, ntraj, N):\n",
    "    paths = simulate_paths(x0, r, sigma, T, ntraj, N)\n",
    "\n",
    "    asian_avg = np.mean(paths[:, 1:], axis=1)\n",
    "    discounted_cash_flows = np.exp(-r * T) * np.maximum(K - paths[:, -1], 0)\n",
    "\n",
    "    return discounted_cash_flows\n",
    "\n",
    "# Parameters\n",
    "x0 = 1.33\n",
    "K = 1.33\n",
    "sigma = 0.1\n",
    "r = 0.02\n",
    "T = 1\n",
    "N = 12\n",
    "h = T / N\n",
    "ntraj = 20000\n",
    "\n",
    "# Calculate discounted cash flows\n",
    "discounted_cash_flows = asian_put_option_price_for_var(x0, K, sigma, r, T, ntraj, N)\n",
    "Variance=np.var(discounted_cash_flows)\n",
    "#chenking if we im geeting same answer with slides formule \n",
    "# def calculate_variance(data):\n",
    "#     mean = np.mean(data)\n",
    "#     variance = np.mean((data - mean) ** 2)\n",
    "#     return variance\n",
    "# data = discounted_cash_flows\n",
    "# result = calculate_variance(data)\n",
    "print(f\"Sample Variance: {Variance}\")\n"
   ]
  },
  {
   "cell_type": "code",
   "execution_count": 13,
   "metadata": {},
   "outputs": [
    {
     "data": {
      "text/plain": [
       "0.00048033661979305807"
      ]
     },
     "execution_count": 13,
     "metadata": {},
     "output_type": "execute_result"
    }
   ],
   "source": [
    "\n",
    "Adjustedvar=np.sqrt(Variance/ntraj)\n",
    "Adjustedvar\n"
   ]
  },
  {
   "cell_type": "code",
   "execution_count": 14,
   "metadata": {},
   "outputs": [
    {
     "data": {
      "text/plain": [
       "33.70543435787395"
      ]
     },
     "execution_count": 14,
     "metadata": {},
     "output_type": "execute_result"
    }
   ],
   "source": [
    "asian_put_price_all"
   ]
  },
  {
   "cell_type": "code",
   "execution_count": 15,
   "metadata": {},
   "outputs": [
    {
     "name": "stdout",
     "output_type": "stream",
     "text": [
      "confidence_interval_lower: 33.05773538688499\n",
      "confidence_interval_upper: 35.31723884639154\n"
     ]
    }
   ],
   "source": [
    "confidence_interval_lower =( asian_put_price - 1.96 * (Adjustedvar))*12*100\n",
    "\n",
    "confidence_interval_upper = (asian_put_price + 1.96 *(Adjustedvar))*12*100\n",
    "print(\"confidence_interval_lower:\", confidence_interval_lower)\n",
    "print(\"confidence_interval_upper:\", confidence_interval_upper)"
   ]
  },
  {
   "cell_type": "code",
   "execution_count": 16,
   "metadata": {},
   "outputs": [
    {
     "name": "stdout",
     "output_type": "stream",
     "text": [
      "╒═══════════════════════════╤══════════╕\n",
      "│ Description               │   Values │\n",
      "╞═══════════════════════════╪══════════╡\n",
      "│ confidence_interval_lower │  33.0577 │\n",
      "├───────────────────────────┼──────────┤\n",
      "│ Asian_put_price           │  33.7054 │\n",
      "├───────────────────────────┼──────────┤\n",
      "│ confidence_interval_upper │  35.3172 │\n",
      "╘═══════════════════════════╧══════════╛\n"
     ]
    }
   ],
   "source": [
    "# Create a table\n",
    "table_data = [\n",
    "    [\"confidence_interval_lower\", confidence_interval_lower],\n",
    "    [\"Asian_put_price\", asian_put_price_all],\n",
    "    [\"confidence_interval_upper\", confidence_interval_upper],\n",
    "    \n",
    "]\n",
    "\n",
    "# Display the table\n",
    "table = tabulate(table_data, headers=[\"Description\", \"Values\"], tablefmt=\"fancy_grid\")\n",
    "print(table)"
   ]
  },
  {
   "attachments": {},
   "cell_type": "markdown",
   "metadata": {},
   "source": [
    "**Final table for Q1**"
   ]
  },
  {
   "cell_type": "code",
   "execution_count": 17,
   "metadata": {},
   "outputs": [
    {
     "name": "stdout",
     "output_type": "stream",
     "text": [
      "╒═════════════════════════════╤══════════════════╕\n",
      "│ Description                 │ Values           │\n",
      "╞═════════════════════════════╪══════════════════╡\n",
      "│ Total cost of European puts │ 40.23            │\n",
      "├─────────────────────────────┼──────────────────┤\n",
      "│ Cost of an Asian put        │ 33.71            │\n",
      "├─────────────────────────────┼──────────────────┤\n",
      "│ 95% Confidence Interval     │ (33.058, 35.317) │\n",
      "╘═════════════════════════════╧══════════════════╛\n"
     ]
    }
   ],
   "source": [
    "\n",
    "# Round confidence intervals to 3 decimals\n",
    "confidence_interval_lower = round(confidence_interval_lower, 3)\n",
    "confidence_interval_upper = round(confidence_interval_upper, 3)\n",
    "\n",
    "# Create a table\n",
    "table_data = [\n",
    "    [\"Total cost of European puts\", round(total_cost_european_puts, 2)],\n",
    "    [\"Cost of an Asian put \", round(asian_put_price_all, 2)],\n",
    "    [\"95% Confidence Interval\", (confidence_interval_lower, confidence_interval_upper)],\n",
    "]\n",
    "\n",
    "# Display the table\n",
    "table = tabulate(table_data, headers=[\"Description\", \"Values\"], tablefmt=\"fancy_grid\")\n",
    "print(table)"
   ]
  },
  {
   "attachments": {},
   "cell_type": "markdown",
   "metadata": {},
   "source": [
    "**Question 2**\n",
    "Question2_ Part1 \n",
    "\n",
    "The hedged revenues with the European options"
   ]
  },
  {
   "cell_type": "code",
   "execution_count": 18,
   "metadata": {},
   "outputs": [
    {
     "name": "stdout",
     "output_type": "stream",
     "text": [
      "Estimated Asian Put Option Price: 34.74774683261159\n"
     ]
    }
   ],
   "source": [
    "def simulate_paths_vectorized(x0, r, sigma, T, ntraj, N, h):\n",
    "    paths = np.zeros((ntraj, N + 1))\n",
    "    paths[:, 0] = x0\n",
    "\n",
    "    dW = np.random.normal(0, np.sqrt(h), size=(ntraj, N))\n",
    "    for i in range(1, N + 1):\n",
    "        paths[:, i] = paths[:, i - 1] * np.exp((r - rf - 0.5 * sigma**2) * h + sigma * dW[:, i - 1])\n",
    "\n",
    "    return paths\n",
    "\n",
    "def asian_put_option_price_vectorized(x0, K, sigma, r, rf, T, ntraj, N, h):\n",
    "    paths = simulate_paths_vectorized(x0, r, sigma, T, ntraj, N, h)\n",
    "    \n",
    "    asian_avg = np.mean(paths[:, 1:], axis=1)\n",
    "    payoff = np.maximum(K - asian_avg, 0)\n",
    "    \n",
    "    discount_factor = np.exp(-r * T)\n",
    "    option_price = discount_factor * np.mean(payoff)\n",
    "    \n",
    "    return option_price\n",
    "\n",
    "# Parameters\n",
    "x0 = 1.33\n",
    "K = 1.33\n",
    "sigma = 0.1\n",
    "r = 0.02\n",
    "rf = 0.01\n",
    "T = 1\n",
    "N = 12\n",
    "h = T / N\n",
    "ntraj = 20000\n",
    "\n",
    "# Calculate Asian put option price\n",
    "asian_put_price_vectorized = 12 * 100 * asian_put_option_price_vectorized(x0, K, sigma, r, rf, T, ntraj, N, h)\n",
    "\n",
    "print(\"Estimated Asian Put Option Price:\", asian_put_price_vectorized)"
   ]
  },
  {
   "cell_type": "code",
   "execution_count": 19,
   "metadata": {},
   "outputs": [
    {
     "name": "stdout",
     "output_type": "stream",
     "text": [
      "Profit for put option 1: 0.93\n",
      "Profit for put option 2: 2.32\n",
      "Profit for put option 3: -0.17\n",
      "Profit for put option 4: 2.03\n",
      "Profit for put option 5: 1.37\n",
      "Profit for put option 6: 2.4\n",
      "Profit for put option 7: 2.5\n",
      "Profit for put option 8: 3.36\n",
      "Profit for put option 9: 7.0\n",
      "Profit for put option 10: 3.78\n",
      "Profit for put option 11: 1.17\n",
      "Profit for put option 12: 7.5\n"
     ]
    }
   ],
   "source": [
    "realized_exchange_rate = np.array([1.3059, 1.2863, 1.3069, 1.2814, 1.2850, 1.2720, 1.2686, 1.2578, 1.2193, 1.2497, 1.2740, 1.2090])\n",
    "\n",
    "# Calculate profit for each put\n",
    "profits = 100 * np.maximum(K - realized_exchange_rate, 0) - individual_put_prices\n",
    "\n",
    "rounded_profits = np.round(profits, 2)\n",
    "\n",
    "# Displaying the results\n",
    "for i, profit in enumerate(rounded_profits):\n",
    "    print(f\"Profit for put option {i + 1}: {profit}\")"
   ]
  },
  {
   "cell_type": "code",
   "execution_count": 20,
   "metadata": {},
   "outputs": [
    {
     "name": "stdout",
     "output_type": "stream",
     "text": [
      "╒═══════╤═════════╕\n",
      "│ T     │ Profits │\n",
      "├───────┼─────────┤\n",
      "│ 0.083 │ 0.93    │\n",
      "├───────┼─────────┤\n",
      "│ 0.167 │ 2.32    │\n",
      "├───────┼─────────┤\n",
      "│ 0.25  │ -0.17   │\n",
      "├───────┼─────────┤\n",
      "│ 0.333 │ 2.03    │\n",
      "├───────┼─────────┤\n",
      "│ 0.417 │ 1.37    │\n",
      "├───────┼─────────┤\n",
      "│ 0.5   │ 2.4     │\n",
      "├───────┼─────────┤\n",
      "│ 0.583 │ 2.5     │\n",
      "├───────┼─────────┤\n",
      "│ 0.667 │ 3.36    │\n",
      "├───────┼─────────┤\n",
      "│ 0.75  │ 7.0     │\n",
      "├───────┼─────────┤\n",
      "│ 0.833 │ 3.78    │\n",
      "├───────┼─────────┤\n",
      "│ 0.917 │ 1.17    │\n",
      "├───────┼─────────┤\n",
      "│ 1.0   │ 7.5     │\n",
      "╘═══════╧═════════╛\n"
     ]
    }
   ],
   "source": [
    "profits = [0.93, 2.32, -0.17, 2.03, 1.37, 2.4, 2.5, 3.36, 7.0, 3.78, 1.17, 7.5]\n",
    "\n",
    "# Create a table\n",
    "table_data = list(zip([\"T\"] + rounded_T_values, [\"Profits\"] + profits))\n",
    "\n",
    "# Display the table\n",
    "table = tabulate(table_data,  tablefmt=\"fancy_grid\")\n",
    "print(table)"
   ]
  },
  {
   "cell_type": "code",
   "execution_count": 21,
   "metadata": {},
   "outputs": [
    {
     "name": "stdout",
     "output_type": "stream",
     "text": [
      "\n",
      "Total Profit: 34.19\n"
     ]
    }
   ],
   "source": [
    "total_profit = np.sum(profits)\n",
    "print(f\"\\nTotal Profit: {total_profit:.2f}\")"
   ]
  },
  {
   "cell_type": "code",
   "execution_count": 22,
   "metadata": {},
   "outputs": [
    {
     "name": "stdout",
     "output_type": "stream",
     "text": [
      "Mean_of_the_realized_exchange: 1.2680\n"
     ]
    }
   ],
   "source": [
    "# Calculate and print the average\n",
    "\n",
    "Mean_of_the_realized_exchange = np.mean(realized_exchange_rate)\n",
    "print(f\"Mean_of_the_realized_exchange: {Mean_of_the_realized_exchange:.4f}\")"
   ]
  },
  {
   "cell_type": "code",
   "execution_count": 23,
   "metadata": {},
   "outputs": [
    {
     "name": "stdout",
     "output_type": "stream",
     "text": [
      "Inflows without hedging: 1521.6\n"
     ]
    }
   ],
   "source": [
    "Inflows_without_hedging=12*100*Mean_of_the_realized_exchange\n",
    "Inflows_without_hedging\n",
    "rounded_inflows_without_hedging = round(Inflows_without_hedging, 1)\n",
    "\n",
    "# Display the result\n",
    "print(f\"Inflows without hedging: {rounded_inflows_without_hedging}\")"
   ]
  },
  {
   "cell_type": "code",
   "execution_count": 24,
   "metadata": {},
   "outputs": [
    {
     "name": "stdout",
     "output_type": "stream",
     "text": [
      "Inflows with hedging_European: 1556\n"
     ]
    }
   ],
   "source": [
    "#12 European puts \n",
    "Inflows_with_hedging=rounded_inflows_without_hedging+total_profit\n",
    "rounded_Inflows_with_hedging_European = round(Inflows_with_hedging)\n",
    "\n",
    "# Display the result\n",
    "print(f\"Inflows with hedging_European: {rounded_Inflows_with_hedging_European}\")"
   ]
  },
  {
   "cell_type": "code",
   "execution_count": 25,
   "metadata": {},
   "outputs": [
    {
     "name": "stdout",
     "output_type": "stream",
     "text": [
      "Profit_for_the_put: 74.38\n"
     ]
    }
   ],
   "source": [
    "Profit_for_the_put = 12 * 100 * np.maximum(K - Mean_of_the_realized_exchange, 0) - asian_put_price\n",
    "\n",
    "# Display the result\n",
    "print(f\"Profit_for_the_put: {Profit_for_the_put:.2f}\")"
   ]
  },
  {
   "attachments": {},
   "cell_type": "markdown",
   "metadata": {},
   "source": [
    "Question2_Part2 \n",
    "\n",
    "The hedged revenues with the Asian option\n"
   ]
  },
  {
   "cell_type": "code",
   "execution_count": 26,
   "metadata": {},
   "outputs": [
    {
     "name": "stdout",
     "output_type": "stream",
     "text": [
      "Inflows with hedging_European: 1596\n"
     ]
    }
   ],
   "source": [
    "#1 Asian put\n",
    "Inflows_with_hedging_Asian=Profit_for_the_put+rounded_inflows_without_hedging\n",
    "Inflows_with_hedging_Asian = round(Inflows_with_hedging_Asian)\n",
    "# Display the result\n",
    "print(f\"Inflows with hedging_European: {Inflows_with_hedging_Asian}\")"
   ]
  },
  {
   "attachments": {},
   "cell_type": "markdown",
   "metadata": {},
   "source": [
    "Question2_ Part3 \n",
    "\n",
    "The difference between these quantities (Asian - European)"
   ]
  },
  {
   "cell_type": "code",
   "execution_count": 27,
   "metadata": {},
   "outputs": [
    {
     "data": {
      "text/plain": [
       "40"
      ]
     },
     "execution_count": 27,
     "metadata": {},
     "output_type": "execute_result"
    }
   ],
   "source": [
    "Difference=Inflows_with_hedging_Asian-rounded_Inflows_with_hedging_European\n",
    "Difference"
   ]
  },
  {
   "cell_type": "code",
   "execution_count": 28,
   "metadata": {},
   "outputs": [
    {
     "name": "stdout",
     "output_type": "stream",
     "text": [
      "╒═══════════════════════════════════════╤══════════╕\n",
      "│ Description                           │   Values │\n",
      "╞═══════════════════════════════════════╪══════════╡\n",
      "│ Hedged Revenues with European Options │     1556 │\n",
      "├───────────────────────────────────────┼──────────┤\n",
      "│ Hedged Revenues with Asian Option     │     1596 │\n",
      "├───────────────────────────────────────┼──────────┤\n",
      "│ Difference (Asian - European)         │       40 │\n",
      "╘═══════════════════════════════════════╧══════════╛\n"
     ]
    }
   ],
   "source": [
    "# Create a table\n",
    "table_data = [\n",
    "    [\"Hedged Revenues with European Options\", rounded_Inflows_with_hedging_European],\n",
    "    [\"Hedged Revenues with Asian Option\", Inflows_with_hedging_Asian],\n",
    "    [\"Difference (Asian - European)\", Difference],\n",
    "]\n",
    "\n",
    "# Display the table\n",
    "table = tabulate(table_data, headers=[\"Description\", \"Values\"], tablefmt=\"fancy_grid\")\n",
    "print(table)"
   ]
  },
  {
   "attachments": {},
   "cell_type": "markdown",
   "metadata": {},
   "source": [
    "Question 3 "
   ]
  },
  {
   "attachments": {},
   "cell_type": "markdown",
   "metadata": {},
   "source": [
    "Q3-PartA"
   ]
  },
  {
   "cell_type": "code",
   "execution_count": 29,
   "metadata": {},
   "outputs": [
    {
     "name": "stdout",
     "output_type": "stream",
     "text": [
      "First few paths (before setting seed):\n",
      "[[1.33       1.36685175 1.36745284 1.36372856 1.367216   1.42685175\n",
      "  1.47385188 1.49029462 1.46697379 1.48339253 1.44288987 1.49241937\n",
      "  1.47815651]\n",
      " [1.33       1.3199215  1.27443109 1.33466552 1.30913731 1.33118782\n",
      "  1.31065311 1.29536922 1.3293746  1.39114461 1.42716993 1.41762462\n",
      "  1.43308554]\n",
      " [1.33       1.32338299 1.35243118 1.35796337 1.32704987 1.36135338\n",
      "  1.27737247 1.23607772 1.21531479 1.28041455 1.27556306 1.27754874\n",
      "  1.32451258]\n",
      " [1.33       1.37732389 1.41474401 1.38107912 1.41188888 1.42582852\n",
      "  1.44869979 1.45281607 1.46134854 1.45431021 1.39192454 1.4051567\n",
      "  1.39153763]\n",
      " [1.33       1.35804123 1.34495308 1.32159895 1.34783082 1.34394975\n",
      "  1.36802328 1.39393528 1.3793266  1.38500804 1.35818935 1.27737535\n",
      "  1.23611532]]\n"
     ]
    }
   ],
   "source": [
    "def simulate_physical_paths(x0, sigma, N, h, ntraj, seed=None):\n",
    "    if seed is not None:\n",
    "        np.random.seed(seed)  # Set the seed if provided\n",
    "\n",
    "    paths = np.zeros((ntraj, N + 1))\n",
    "    paths[:, 0] = x0\n",
    "\n",
    "    for i in range(1, N + 1):\n",
    "        dW = np.random.normal(0, np.sqrt(h), size=(ntraj,))\n",
    "        paths[:, i] = paths[:, i - 1] * np.exp(-0.5 * sigma**2 * h + sigma * dW)\n",
    "\n",
    "    return paths\n",
    "\n",
    "#  input\n",
    "x0 = 1.33\n",
    "sigma = 0.1\n",
    "N = 12\n",
    "h = 1 / N\n",
    "ntraj = 10000\n",
    "\n",
    "# Simulate physical paths for 10,000 trajectories without a specified seed initially\n",
    "physical_paths = simulate_physical_paths(x0, sigma, N, h, ntraj)\n",
    "# Display the first few paths for illustration\n",
    "print(\"First few paths (before setting seed):\")\n",
    "print(physical_paths[:5, :])\n"
   ]
  },
  {
   "cell_type": "code",
   "execution_count": 30,
   "metadata": {},
   "outputs": [
    {
     "name": "stdout",
     "output_type": "stream",
     "text": [
      "\n",
      "First few additional paths (with seed):\n",
      "[[1.33       1.39889981 1.39018217 1.40290591 1.41743035 1.33969289\n",
      "  1.34169021 1.30005187 1.231523   1.25149018 1.25525632 1.23733156\n",
      "  1.27329844]\n",
      " [1.33       1.34489214 1.31238205 1.31181716 1.32285861 1.35081365\n",
      "  1.41816631 1.38352304 1.45184003 1.4890058  1.56579164 1.62443144\n",
      "  1.55577551]\n",
      " [1.33       1.36754342 1.43712425 1.47085575 1.49179565 1.55243542\n",
      "  1.48092297 1.4693301  1.43675799 1.42022981 1.41599901 1.41011231\n",
      "  1.37122071]\n",
      " [1.33       1.41828911 1.42552218 1.44265185 1.4476942  1.41350048\n",
      "  1.38879527 1.41704801 1.42294261 1.40899178 1.37536652 1.36695489\n",
      "  1.38871866]\n",
      " [1.33       1.40308591 1.39532089 1.29748143 1.32164972 1.29023803\n",
      "  1.21322643 1.23197956 1.2219591  1.26340434 1.2094357  1.19731482\n",
      "  1.18175136]]\n"
     ]
    }
   ],
   "source": [
    "seed = 0  # You can use any integer as the seed value\n",
    "np.random.seed(seed)\n",
    "\n",
    "# Example: Simulate additional paths with the same seed\n",
    "additional_paths = simulate_physical_paths(x0, sigma, N, h, ntraj, seed)\n",
    "\n",
    "# Display the first few additional paths for illustration\n",
    "print(\"\\nFirst few additional paths (with seed):\")\n",
    "print(additional_paths[:5, :])"
   ]
  },
  {
   "cell_type": "code",
   "execution_count": 31,
   "metadata": {},
   "outputs": [
    {
     "name": "stdout",
     "output_type": "stream",
     "text": [
      "Number of rows: 10000\n",
      "Number of columns: 13\n"
     ]
    }
   ],
   "source": [
    "num_rows, num_columns = physical_paths.shape\n",
    "print(f\"Number of rows: {num_rows}\")\n",
    "print(f\"Number of columns: {num_columns}\")"
   ]
  },
  {
   "cell_type": "code",
   "execution_count": 32,
   "metadata": {},
   "outputs": [
    {
     "data": {
      "text/plain": [
       "array([[1.39889981, 1.39018217, 1.40290591, ..., 1.25525632, 1.23733156,\n",
       "        1.27329844],\n",
       "       [1.34489214, 1.31238205, 1.31181716, ..., 1.56579164, 1.62443144,\n",
       "        1.55577551],\n",
       "       [1.36754342, 1.43712425, 1.47085575, ..., 1.41599901, 1.41011231,\n",
       "        1.37122071],\n",
       "       ...,\n",
       "       [1.34943109, 1.3466412 , 1.28861763, ..., 1.35608611, 1.38371718,\n",
       "        1.48801179],\n",
       "       [1.32818313, 1.28765992, 1.32393577, ..., 1.32306932, 1.3053694 ,\n",
       "        1.30348076],\n",
       "       [1.38020981, 1.36669142, 1.41654288, ..., 1.21994572, 1.30072417,\n",
       "        1.30669933]])"
      ]
     },
     "execution_count": 32,
     "metadata": {},
     "output_type": "execute_result"
    }
   ],
   "source": [
    "# Exclude the first column and keep the last 12 columns for further calculations\n",
    "simulated_paths = additional_paths[:, -12:]\n",
    "simulated_paths\n"
   ]
  },
  {
   "attachments": {},
   "cell_type": "markdown",
   "metadata": {},
   "source": [
    "Q3-PartB"
   ]
  },
  {
   "cell_type": "code",
   "execution_count": 33,
   "metadata": {},
   "outputs": [
    {
     "data": {
      "text/plain": [
       "array([1.31997939, 1.42760812, 1.44369395, ..., 1.3554737 , 1.31526663,\n",
       "       1.32048772])"
      ]
     },
     "execution_count": 33,
     "metadata": {},
     "output_type": "execute_result"
    }
   ],
   "source": [
    "\n",
    "# Calculate the average exchange rate for each path\n",
    "average_exchange_rates = np.mean(simulated_paths, axis=1)\n",
    "average_exchange_rates.shape\n",
    "average_exchange_rates\n",
    "\n"
   ]
  },
  {
   "attachments": {},
   "cell_type": "markdown",
   "metadata": {},
   "source": [
    "Q3-Partc"
   ]
  },
  {
   "cell_type": "code",
   "execution_count": 34,
   "metadata": {},
   "outputs": [
    {
     "name": "stdout",
     "output_type": "stream",
     "text": [
      "Revenues Without Hedging for the first few paths:\n",
      "[1583.97527184 1713.12973894 1732.43274076 ... 1626.56843705 1578.31995649\n",
      " 1584.58525829]\n"
     ]
    }
   ],
   "source": [
    "\n",
    "revenues_without_hedging = 12 * 100 * average_exchange_rates\n",
    "# Display the revenues without hedging for the first few paths for illustration\n",
    "print(\"Revenues Without Hedging for the first few paths:\")\n",
    "print(revenues_without_hedging)"
   ]
  },
  {
   "attachments": {},
   "cell_type": "markdown",
   "metadata": {},
   "source": [
    "Q3-pardD"
   ]
  },
  {
   "cell_type": "code",
   "execution_count": 35,
   "metadata": {},
   "outputs": [
    {
     "name": "stdout",
     "output_type": "stream",
     "text": [
      "Total Sum of Hedged Revenues and Revenues Without Hedging: [1586.84993401 1677.19375653 1692.20254076 ... 1592.99869675 1562.08873626\n",
      " 1576.79243605]\n"
     ]
    }
   ],
   "source": [
    "#Use same notation as Excel File !\n",
    "\n",
    "Q4 = simulated_paths  # Use the entire matrix of paths for further calculations\n",
    "\n",
    "# L4 array which is the Individualputprice European\n",
    "\n",
    "L4 = np.array([1.4750, 2.0518, 2.4804, 2.8322, 3.1348, 3.4023, 3.6434, 3.8634, 4.0661, 4.2545, 4.4305, 4.5958])\n",
    "\n",
    "# d) Calculate the hedged revenues with European put options for each element in the matrix\n",
    "hedged_revenues = 100 * np.maximum(K - Q4, 0) - L4\n",
    "hedged_revenues\n",
    "\n",
    "sum_hedged_revenues = np.sum(hedged_revenues, axis=1)\n",
    "sum_hedged_revenues\n",
    "\n",
    "Inflows_with_hedging_European = sum_hedged_revenues + revenues_without_hedging\n",
    "\n",
    "\n",
    "# Display the result or use it as needed\n",
    "print(\"Total Sum of Hedged Revenues and Revenues Without Hedging:\", Inflows_with_hedging_European)\n",
    "\n"
   ]
  },
  {
   "attachments": {},
   "cell_type": "markdown",
   "metadata": {},
   "source": [
    "Q3-part E"
   ]
  },
  {
   "cell_type": "code",
   "execution_count": 36,
   "metadata": {},
   "outputs": [
    {
     "name": "stdout",
     "output_type": "stream",
     "text": [
      "Estimated Asian Put Option Price (for 12 x 100 CAD/USD): 34.06617841403517\n",
      "Profit for the Put: [-22.04145026 -34.06617841 -34.06617841 ... -34.06617841 -16.3861349\n",
      " -22.6514367 ]\n"
     ]
    },
    {
     "data": {
      "text/plain": [
       "array([1561.93382159, 1679.06356052, 1698.36656235, ..., 1592.50225863,\n",
       "       1561.93382159, 1561.93382159])"
      ]
     },
     "execution_count": 36,
     "metadata": {},
     "output_type": "execute_result"
    }
   ],
   "source": [
    "def simulate_paths_vectorized1(x0, r, sigma, T, ntraj, N, h):\n",
    "    paths = np.zeros((ntraj, N + 1))\n",
    "    paths[:, 0] = x0\n",
    "\n",
    "    dW = np.random.normal(0, np.sqrt(h), size=(ntraj, N))\n",
    "    for i in range(1, N + 1):\n",
    "        paths[:, i] = paths[:, i - 1] * np.exp((r - rf - 0.5 * sigma**2) * h + sigma * dW[:, i - 1])\n",
    "\n",
    "    return paths\n",
    "\n",
    "def asian_put_option_price_vectorized1(x0, K, sigma, r, rf, T, ntraj, N, h):\n",
    "    paths = simulate_paths_vectorized1(x0, r, sigma, T, ntraj, N, h)\n",
    "    \n",
    "    asian_avg = np.mean(paths[:, 1:], axis=1)\n",
    "    payoff = np.maximum(K - asian_avg, 0)\n",
    "    \n",
    "    discount_factor = np.exp(-r * T)\n",
    "    option_price = discount_factor * np.mean(payoff)\n",
    "    \n",
    "    return option_price\n",
    "\n",
    "# Parameters\n",
    "x0 = 1.33\n",
    "K = 1.33\n",
    "sigma = 0.1\n",
    "r = 0.02\n",
    "rf = 0.01\n",
    "T = 1\n",
    "N = 12\n",
    "h = T / N\n",
    "ntraj = 10000\n",
    "\n",
    "# Calculate Asian put option price using vectorized code\n",
    "asian_put_price_vectorized_3 = 12 * 100 * asian_put_option_price_vectorized1(x0, K, sigma, r, rf, T, ntraj, N, h)\n",
    "\n",
    "print(\"Estimated Asian Put Option Price (for 12 x 100 CAD/USD):\", asian_put_price_vectorized_3)\n",
    "\n",
    "profit_for_the_put = 12 * 100 * np.maximum(K - average_exchange_rates, 0) - asian_put_price_vectorized_3  \n",
    "\n",
    "# Display the results \n",
    "\n",
    "print(\"Profit for the Put:\", profit_for_the_put)\n",
    "\n",
    "Inflows_with_hedging_Asian=profit_for_the_put+revenues_without_hedging\n",
    "\n",
    "Inflows_with_hedging_Asian"
   ]
  },
  {
   "attachments": {},
   "cell_type": "markdown",
   "metadata": {},
   "source": [
    "Q3-Part F"
   ]
  },
  {
   "cell_type": "code",
   "execution_count": 37,
   "metadata": {},
   "outputs": [
    {
     "name": "stdout",
     "output_type": "stream",
     "text": [
      "Difference between Asian and European Hedged Revenues: [-24.91611242   1.86980399   6.16402159 ...  -0.49643812  -0.15491467\n",
      " -14.85861446]\n"
     ]
    }
   ],
   "source": [
    "difference_revenues = Inflows_with_hedging_Asian - Inflows_with_hedging_European\n",
    "\n",
    "# Display the results or use them as needed\n",
    "print(\"Difference between Asian and European Hedged Revenues:\",difference_revenues)\n"
   ]
  },
  {
   "attachments": {},
   "cell_type": "markdown",
   "metadata": {},
   "source": [
    "Question3 _ f"
   ]
  },
  {
   "cell_type": "code",
   "execution_count": 38,
   "metadata": {},
   "outputs": [
    {
     "name": "stdout",
     "output_type": "stream",
     "text": [
      "Mean Difference: 0.521846859865626\n",
      "Median Difference: 3.754148155247094\n",
      "Standard Deviation of Difference: 7.482372447769909\n",
      "Minimum Difference: -48.40511031917367\n",
      "Maximum Difference: 6.164021585965429\n",
      "5th Percentile of Difference: -15.148060912293612\n",
      "95th Percentile of Difference: 6.164021585964974\n",
      "Proportion of Negative Differences: 0.3324\n"
     ]
    },
    {
     "data": {
      "image/png": "[encoded data removed]",
      "text/plain": [
       "<Figure size 640x480 with 1 Axes>"
      ]
     },
     "metadata": {},
     "output_type": "display_data"
    }
   ],
   "source": [
    "\n",
    "# Display statistics\n",
    "mean_difference = np.mean(difference_revenues)\n",
    "median_difference = np.median(difference_revenues)\n",
    "std_dev_difference = np.std(difference_revenues)\n",
    "min_difference = np.min(difference_revenues)\n",
    "max_difference = np.max(difference_revenues)\n",
    "percentile_5th = np.percentile(difference_revenues, 5)\n",
    "percentile_95th = np.percentile(difference_revenues, 95)\n",
    "\n",
    "# Calculate the proportion of differences that are negative\n",
    "proportion_negative = np.sum(difference_revenues < 0) / ntraj\n",
    "\n",
    "# Display the results\n",
    "print(\"Mean Difference:\", mean_difference)\n",
    "print(\"Median Difference:\", median_difference)\n",
    "print(\"Standard Deviation of Difference:\", std_dev_difference)\n",
    "print(\"Minimum Difference:\", min_difference)\n",
    "print(\"Maximum Difference:\", max_difference)\n",
    "print(\"5th Percentile of Difference:\", percentile_5th)\n",
    "print(\"95th Percentile of Difference:\", percentile_95th)\n",
    "print(\"Proportion of Negative Differences:\", proportion_negative)\n",
    "\n",
    "plt.hist(difference_revenues, bins=50, edgecolor='black')\n",
    "plt.title('Histogram of Differences between Asian and European Hedged Revenues')\n",
    "plt.xlabel('Difference in Revenues')\n",
    "plt.ylabel('Frequency')\n",
    "plt.grid(True)\n",
    "plt.show()"
   ]
  },
  {
   "cell_type": "code",
   "execution_count": 39,
   "metadata": {},
   "outputs": [
    {
     "name": "stdout",
     "output_type": "stream",
     "text": [
      "\n",
      "Statistics for sigma = 0.1\n",
      "╒════════════════════════════════════╤════════════╕\n",
      "│ Description                        │     Values │\n",
      "╞════════════════════════════════════╪════════════╡\n",
      "│ Mean Difference                    │   0.521847 │\n",
      "├────────────────────────────────────┼────────────┤\n",
      "│ Median Difference                  │   3.75415  │\n",
      "├────────────────────────────────────┼────────────┤\n",
      "│ Standard Deviation of Difference   │   7.48237  │\n",
      "├────────────────────────────────────┼────────────┤\n",
      "│ Minimum Difference                 │ -48.4051   │\n",
      "├────────────────────────────────────┼────────────┤\n",
      "│ Maximum Difference                 │   6.16402  │\n",
      "├────────────────────────────────────┼────────────┤\n",
      "│ 5th Percentile of Difference       │ -15.1481   │\n",
      "├────────────────────────────────────┼────────────┤\n",
      "│ 95th Percentile of Difference      │   6.16402  │\n",
      "├────────────────────────────────────┼────────────┤\n",
      "│ Proportion of Negative Differences │   0.3324   │\n",
      "╘════════════════════════════════════╧════════════╛\n"
     ]
    }
   ],
   "source": [
    "header = f\"Statistics for sigma = 0.1\"\n",
    "mean_difference_table = [\n",
    "    [\"Mean Difference\", mean_difference],\n",
    "    [\"Median Difference\", median_difference],\n",
    "    [\"Standard Deviation of Difference\", std_dev_difference],\n",
    "    [\"Minimum Difference\", min_difference],\n",
    "    [\"Maximum Difference\", max_difference],\n",
    "    [\"5th Percentile of Difference\", percentile_5th],\n",
    "    [\"95th Percentile of Difference\", percentile_95th],\n",
    "    [\"Proportion of Negative Differences\", proportion_negative],\n",
    "]\n",
    "\n",
    "# Display the mean difference table with header\n",
    "mean_difference_table_str = tabulate(mean_difference_table, headers=[\"Description\", \"Values\"], tablefmt=\"fancy_grid\")\n",
    "print(f\"\\n{header}\\n{mean_difference_table_str}\")"
   ]
  },
  {
   "attachments": {},
   "cell_type": "markdown",
   "metadata": {},
   "source": [
    "**Advantages of Asian Put Hedging Strategy:**\n",
    "\n",
    "Mean and Median Differences: The mean and median differences between revenues with Asian put hedging and European put hedging are both positive. This indicates, on average, the Asian put hedging strategy tends to outperform the European put hedging strategy. This is a positive sign for considering the Asian put option.\n",
    "\n",
    "Lower Proportion of Negative Differences: The proportion of negative differences is relatively low at 33.24%. This implies that the Asian put option is more likely to provide positive returns compared to the European put option in the majority of cases.\n",
    "\n",
    "\n",
    "Maximum Difference: The maximum difference is positive, showcasing that in the best-case scenario, the Asian put hedging strategy can provide higher revenues compared to the European put strategy.\n",
    "\n",
    "Median Difference:The median difference being positive suggests that, on average, the Asian put hedging strategy tends to outperform the European put strategy. This is generally seen as an advantage.\n",
    "Consideration:\n",
    "The magnitude of the median difference (3.75%) should be evaluated in the context of the investor's objectives and risk tolerance. If this level of improvement aligns with the investor's expectations and risk appetite, it could be viewed positively.\n",
    "\n",
    "**Disadvantages of Asian Put Hedging Strategy:**\n",
    "\n",
    "Higher Standard Deviation: The standard deviation of the difference between Asian and European put hedging revenues is relatively high at 7.48%. This indicates greater variability in outcomes with the Asian put option, suggesting that while it may outperform on average, there is also higher uncertainty.\n",
    "\n",
    "Minimum Difference: The minimum difference is negative (-48.41%), signifying that there are instances where the Asian put hedging strategy may result in significantly lower revenues compared to the European put strategy. This highlights a potential for larger losses in certain scenarios.\n",
    "\n",
    "Downside Risk:The 5th percentile of the difference being negative at -15.15% implies that in the worst 5% of scenarios, the Asian put hedging strategy may underperform the European put strategy. This signals a potential downside risk in a subset of outcomes, which may be a concern for investors seeking consistent performance across various market conditions.\n",
    "\n",
    "**Mixed Point :**\n",
    "\n",
    "Complexity and Monitoring: While the Asian put hedging strategy offers advantages in terms of ease of management and potentially lower transaction costs compared to handling multiple European put contracts, it introduces a trade-off in terms of complexity during the construction phase. Constructing a single Asian put contract may require a more intricate process compared to handling twelve European put options.\n",
    "\n",
    "**Conclusion and Recommendations:**\n",
    "\n",
    "\n",
    "*Conclusion*\n",
    "\n",
    "\n",
    "In conclusion, the simulation results highlight both advantages and disadvantages associated with the Asian put hedging strategy. On the positive side, the strategy demonstrates a tendency to outperform the European put hedging strategy on average, as indicated by positive mean and median differences. The lower proportion of negative differences and the positive maximum difference further support the potential benefits of adopting the Asian put option.\n",
    "\n",
    "However, it's crucial to acknowledge the presence of notable challenges. The higher standard deviation suggests increased variability in outcomes, introducing a level of uncertainty. The minimum difference being negative and the 5th percentile indicating potential downside risk in specific scenarios underscore the importance of carefully evaluating the strategy's performance under various market conditions.\n",
    "\n",
    "While the Asian put hedging strategy has the potential to significantly enhance returns in favorable scenarios, it should be noted that in adverse scenarios, it may have a substantial negative impact. The strategy's success is intricately tied to market conditions, making it imperative for investors to recognize its dual nature—offering increased gains on the upside but carrying the risk of substantial losses in unfavorable situations.\n",
    "\n",
    "*Recommendation*\n",
    "\n",
    "Careful consideration should be given to the specific risk tolerance and financial goals of the company. The strategy's effectiveness appears to be path-dependent and might not be suitable for all scenarios.\n",
    "Regular monitoring and reassessment of the hedging strategy are crucial, given the wide range of potential outcomes.\n",
    "It may be advisable to combine multiple hedging strategies or instruments to create a more robust risk management approach.\n",
    "\n",
    "Risk Tolerance Assessment: Before embracing the Asian put hedging strategy, it is imperative for investors to conduct a comprehensive assessment of their risk tolerance. The strategy's higher standard deviation, indicative of increased volatility, coupled with the potential for negative outcomes in specific scenarios, underscores the need for a clear understanding of the investor's capacity to tolerate market fluctuations and potential losses.\n",
    "\n",
    "Monitoring and Risk Management: Given the complexity introduced by the averaging mechanism, a robust monitoring and risk management strategy is essential. Regularly assess the market conditions and adjust the hedging strategy accordingly to mitigate potential downsides and capitalize on favorable scenarios.\n",
    "\n",
    "Diversification of Hedging Strategies: Consider diversifying hedging strategies to mitigate risk. While the Asian put option may offer advantages, having a diversified portfolio of hedging instruments can provide a more comprehensive risk management approach. "
   ]
  },
  {
   "attachments": {},
   "cell_type": "markdown",
   "metadata": {},
   "source": [
    "**Question 4**"
   ]
  },
  {
   "attachments": {},
   "cell_type": "markdown",
   "metadata": {},
   "source": [
    "**Question 4- Case 2**"
   ]
  },
  {
   "cell_type": "code",
   "execution_count": 40,
   "metadata": {},
   "outputs": [
    {
     "name": "stdout",
     "output_type": "stream",
     "text": [
      "Mean Difference: -5.117792853620067\n",
      "Median Difference: 1.3931520196258589\n",
      "Standard Deviation of Difference: 14.958247732406539\n",
      "Minimum Difference: -103.68566899497932\n",
      "Maximum Difference: 6.164021585965429\n",
      "5th Percentile of Difference: -36.58453827084926\n",
      "95th Percentile of Difference: 6.164021585964974\n",
      "Proportion of Negative Differences: 0.4625\n"
     ]
    }
   ],
   "source": [
    "#Same simulation but for sigma = 0.2 do the exat same steps ! \n",
    "def simulate_physical_paths1(x0, sigma2, N, h, ntraj, seed=None):\n",
    "    if seed is not None:\n",
    "        np.random.seed(seed)  # Set the seed if provided\n",
    "    \n",
    "    paths = np.zeros((ntraj, N + 1))\n",
    "    paths[:, 0] = x0\n",
    "\n",
    "    for i in range(1, N + 1):\n",
    "        dW = np.random.normal(0, np.sqrt(h), size=(ntraj,))\n",
    "        paths[:, i] = paths[:, i - 1] * np.exp(-0.5 * sigma2**2 * h + sigma2 * dW)\n",
    "\n",
    "    return paths\n",
    "\n",
    "x0 = 1.33\n",
    "sigma2 = 0.2\n",
    "N = 12\n",
    "h = 1 / N\n",
    "ntraj = 10000\n",
    "\n",
    "physical_paths2 = simulate_physical_paths1(x0, sigma2, N, h, ntraj)\n",
    "seed=0\n",
    "np.random.seed(seed)\n",
    "additional_paths2 = simulate_physical_paths1(x0, sigma2, N, h, ntraj, seed)\n",
    "\n",
    "simulated_paths2 = additional_paths2[:, -12:]\n",
    "average_exchange_rates2 = np.mean(simulated_paths2, axis=1)\n",
    "revenues_without_hedging2 = 12 * 100 * average_exchange_rates2\n",
    "Q42 = simulated_paths2  # Use the entire matrix of paths for further calculations  based on new simulation with different sigma\n",
    "\n",
    "# L4 array same as before as it is the initial price \n",
    "L4 = np.array([1.4750, 2.0518, 2.4804, 2.8322, 3.1348, 3.4023, 3.6434, 3.8634, 4.0661, 4.2545, 4.4305, 4.5958])\n",
    "\n",
    "# d) Calculate the hedged revenues with European put options for each element in the matrix\n",
    "hedged_revenues2 = 100 * np.maximum(K - Q42, 0) - L4\n",
    "sum_hedged_revenues2 = np.sum(hedged_revenues2, axis=1)\n",
    "Inflows_with_hedging_European2 = sum_hedged_revenues2 + revenues_without_hedging2\n",
    "\n",
    "def simulate_paths_vectorized(x0, r, sigma, T, ntraj, N, h):\n",
    "    paths = np.zeros((ntraj, N + 1))\n",
    "    paths[:, 0] = x0\n",
    "\n",
    "    dW = np.random.normal(0, np.sqrt(h), size=(ntraj, N))\n",
    "    for i in range(1, N + 1):\n",
    "        paths[:, i] = paths[:, i - 1] * np.exp((r - rf - 0.5 * sigma**2) * h + sigma * dW[:, i - 1])\n",
    "\n",
    "    return paths\n",
    "\n",
    "def asian_put_option_price_vectorized(x0, K, sigma, r, rf, T, ntraj, N, h):\n",
    "    paths = simulate_paths_vectorized(x0, r, sigma, T, ntraj, N, h)\n",
    "    \n",
    "    asian_avg = np.mean(paths[:, 1:], axis=1)\n",
    "    payoff = np.maximum(K - asian_avg, 0)\n",
    "    \n",
    "    discount_factor = np.exp(-r * T)\n",
    "    option_price = discount_factor * np.mean(payoff)\n",
    "    \n",
    "    return option_price\n",
    "\n",
    "# Parameters\n",
    "x0 = 1.33\n",
    "K = 1.33\n",
    "sigma = 0.1\n",
    "r = 0.02\n",
    "rf = 0.01\n",
    "T = 1\n",
    "N = 12\n",
    "h = T / N\n",
    "ntraj = 10000\n",
    "\n",
    "# Calculate Asian put option price using vectorized code\n",
    "asian_put_price_vectorized_2 = 12 * 100 * asian_put_option_price_vectorized(x0, K, sigma, r, rf, T, ntraj, N, h)\n",
    "\n",
    "profit_for_the_put2 = 12 * 100 * np.maximum(K - average_exchange_rates2, 0) - asian_put_price_vectorized_2  # You need to define N4\n",
    "\n",
    "Inflows_with_hedging_Asian2=profit_for_the_put2+revenues_without_hedging2\n",
    "case2 = Inflows_with_hedging_Asian2 - Inflows_with_hedging_European2\n",
    "mean_difference2 = np.mean(case2)\n",
    "median_difference2 = np.median(case2)\n",
    "std_dev_difference2 = np.std(case2)\n",
    "min_difference2 = np.min(case2)\n",
    "max_difference2 = np.max(case2)\n",
    "percentile_5th2 = np.percentile(case2, 5)\n",
    "percentile_95th2 = np.percentile(case2, 95)\n",
    "\n",
    "\n",
    "proportion_negative2 = np.sum(case2 < 0) / ntraj\n",
    "\n",
    "print(\"Mean Difference:\", mean_difference2)\n",
    "print(\"Median Difference:\", median_difference2)\n",
    "print(\"Standard Deviation of Difference:\", std_dev_difference2)\n",
    "print(\"Minimum Difference:\", min_difference2)\n",
    "print(\"Maximum Difference:\", max_difference2)\n",
    "print(\"5th Percentile of Difference:\", percentile_5th2)\n",
    "print(\"95th Percentile of Difference:\", percentile_95th2)\n",
    "print(\"Proportion of Negative Differences:\", proportion_negative2)\n"
   ]
  },
  {
   "cell_type": "code",
   "execution_count": 41,
   "metadata": {},
   "outputs": [
    {
     "name": "stdout",
     "output_type": "stream",
     "text": [
      "\n",
      "Statistics for sigma = 0.2\n",
      "╒════════════════════════════════════╤════════════╕\n",
      "│ Description                        │     Values │\n",
      "╞════════════════════════════════════╪════════════╡\n",
      "│ Mean Difference                    │   -5.11779 │\n",
      "├────────────────────────────────────┼────────────┤\n",
      "│ Median Difference                  │    1.39315 │\n",
      "├────────────────────────────────────┼────────────┤\n",
      "│ Standard Deviation of Difference   │   14.9582  │\n",
      "├────────────────────────────────────┼────────────┤\n",
      "│ Minimum Difference                 │ -103.686   │\n",
      "├────────────────────────────────────┼────────────┤\n",
      "│ Maximum Difference                 │    6.16402 │\n",
      "├────────────────────────────────────┼────────────┤\n",
      "│ 5th Percentile of Difference       │  -36.5845  │\n",
      "├────────────────────────────────────┼────────────┤\n",
      "│ 95th Percentile of Difference      │    6.16402 │\n",
      "├────────────────────────────────────┼────────────┤\n",
      "│ Proportion of Negative Differences │    0.4625  │\n",
      "╘════════════════════════════════════╧════════════╛\n"
     ]
    }
   ],
   "source": [
    "# Create a table for the second set of difference statistics with a header\n",
    "header = f\"Statistics for sigma = 0.2\"\n",
    "mean_difference_table2 = [\n",
    "    [\"Mean Difference\", mean_difference2],\n",
    "    [\"Median Difference\", median_difference2],\n",
    "    [\"Standard Deviation of Difference\", std_dev_difference2],\n",
    "    [\"Minimum Difference\", min_difference2],\n",
    "    [\"Maximum Difference\", max_difference2],\n",
    "    [\"5th Percentile of Difference\", percentile_5th2],\n",
    "    [\"95th Percentile of Difference\", percentile_95th2],\n",
    "    [\"Proportion of Negative Differences\", proportion_negative2],\n",
    "]\n",
    "\n",
    "# Display the second set of difference statistics table with header\n",
    "mean_difference_table2_str = tabulate(mean_difference_table2, headers=[\"Description\", \"Values\"], tablefmt=\"fancy_grid\")\n",
    "print(f\"\\n{header}\\n{mean_difference_table2_str}\")"
   ]
  },
  {
   "cell_type": "code",
   "execution_count": 42,
   "metadata": {},
   "outputs": [
    {
     "name": "stdout",
     "output_type": "stream",
     "text": [
      "Mean Difference: 3.260545557797935\n",
      "Median Difference: 4.925540668862254\n",
      "Standard Deviation of Difference: 3.857449795400646\n",
      "Minimum Difference: -22.748338384357794\n",
      "Maximum Difference: 6.164021585965429\n",
      "5th Percentile of Difference: -4.73898895552802\n",
      "95th Percentile of Difference: 6.164021585964974\n",
      "Proportion of Negative Differences: 0.1753\n"
     ]
    }
   ],
   "source": [
    "\n",
    "#Same simulation but for sigma = 0.05 do the exat same steps!\n",
    "def simulate_physical_paths3(x0, sigma3, N, h, ntraj, seed=None):\n",
    "    if seed is not None:\n",
    "        np.random.seed(seed)  # Set the seed if provided\n",
    "    \n",
    "    paths = np.zeros((ntraj, N + 1))\n",
    "    paths[:, 0] = x0\n",
    "\n",
    "    for i in range(1, N + 1):\n",
    "        dW = np.random.normal(0, np.sqrt(h), size=(ntraj,))\n",
    "        paths[:, i] = paths[:, i - 1] * np.exp(-0.5 * sigma3**2 * h + sigma3 * dW)\n",
    "\n",
    "    return paths\n",
    "\n",
    "x0 = 1.33\n",
    "sigma3 = 0.05\n",
    "N = 12\n",
    "h = 1 / N\n",
    "ntraj = 10000\n",
    "\n",
    "physical_paths3 = simulate_physical_paths3(x0, sigma3, N, h, ntraj)\n",
    "seed=0\n",
    "np.random.seed(seed)\n",
    "additional_paths3 = simulate_physical_paths3(x0, sigma3, N, h, ntraj, seed)\n",
    "\n",
    "simulated_paths3 = physical_paths3[:, -12:]\n",
    "average_exchange_rates3 = np.mean(simulated_paths3, axis=1)\n",
    "revenues_without_hedging3 = 12 * 100 * average_exchange_rates3\n",
    "Q43 = simulated_paths3  # Use the entire matrix of paths for further calculations based on new simulation with different sigma \n",
    "\n",
    "# L4 array same as befor as it is the initial price !\n",
    "L4 = np.array([1.4750, 2.0518, 2.4804, 2.8322, 3.1348, 3.4023, 3.6434, 3.8634, 4.0661, 4.2545, 4.4305, 4.5958])\n",
    "\n",
    "# d) Calculate the hedged revenues with European put options for each element in the matrix\n",
    "hedged_revenues3 = 100 * np.maximum(K - Q43, 0) - L4\n",
    "sum_hedged_revenues3 = np.sum(hedged_revenues3, axis=1)\n",
    "Inflows_with_hedging_European3 = sum_hedged_revenues3 + revenues_without_hedging3\n",
    "\n",
    "\n",
    "def simulate_paths_vectorized(x0, r, sigma, T, ntraj, N, h):\n",
    "    paths = np.zeros((ntraj, N + 1))\n",
    "    paths[:, 0] = x0\n",
    "\n",
    "    dW = np.random.normal(0, np.sqrt(h), size=(ntraj, N))\n",
    "    for i in range(1, N + 1):\n",
    "        paths[:, i] = paths[:, i - 1] * np.exp((r - rf - 0.5 * sigma**2) * h + sigma * dW[:, i - 1])\n",
    "\n",
    "    return paths\n",
    "\n",
    "def asian_put_option_price_vectorized(x0, K, sigma, r, rf, T, ntraj, N, h):\n",
    "    paths = simulate_paths_vectorized(x0, r, sigma, T, ntraj, N, h)\n",
    "    \n",
    "    asian_avg = np.mean(paths[:, 1:], axis=1)\n",
    "    payoff = np.maximum(K - asian_avg, 0)\n",
    "    \n",
    "    discount_factor = np.exp(-r * T)\n",
    "    option_price = discount_factor * np.mean(payoff)\n",
    "    \n",
    "    return option_price\n",
    "\n",
    "\n",
    "# Parameters\n",
    "x0 = 1.33\n",
    "K = 1.33\n",
    "sigma = 0.1\n",
    "r = 0.02\n",
    "rf = 0.01\n",
    "T = 1\n",
    "N = 12\n",
    "h = T / N\n",
    "ntraj = 10000\n",
    "\n",
    "# Calculate Asian put option price using vectorized code\n",
    "asian_put_price_vectorized_3 = 12 * 100 * asian_put_option_price_vectorized(x0, K, sigma, r, rf, T, ntraj, N, h)\n",
    "\n",
    "profit_for_the_put3 = 12 * 100 * np.maximum(K - average_exchange_rates3, 0) - asian_put_price_vectorized_3  # You need to define N4\n",
    "\n",
    "Inflows_with_hedging_Asian3=profit_for_the_put3+revenues_without_hedging3\n",
    "case1 = Inflows_with_hedging_Asian3 - Inflows_with_hedging_European3\n",
    "mean_difference3 = np.mean(case1)\n",
    "median_difference3 = np.median(case1)\n",
    "std_dev_difference3 = np.std(case1)\n",
    "min_difference3 = np.min(case1)\n",
    "max_difference3 = np.max(case1)\n",
    "percentile_5th3 = np.percentile(case1, 5)\n",
    "percentile_95th3 = np.percentile(case1, 95)\n",
    "\n",
    "\n",
    "proportion_negative3 = np.sum(case1 < 0) / ntraj\n",
    "\n",
    "print(\"Mean Difference:\", mean_difference3)\n",
    "print(\"Median Difference:\", median_difference3)\n",
    "print(\"Standard Deviation of Difference:\", std_dev_difference3)\n",
    "print(\"Minimum Difference:\", min_difference3)\n",
    "print(\"Maximum Difference:\", max_difference3)\n",
    "print(\"5th Percentile of Difference:\", percentile_5th3)\n",
    "print(\"95th Percentile of Difference:\", percentile_95th3)\n",
    "print(\"Proportion of Negative Differences:\", proportion_negative3)"
   ]
  },
  {
   "attachments": {},
   "cell_type": "markdown",
   "metadata": {},
   "source": [
    "**Question 4- Comparison**"
   ]
  },
  {
   "cell_type": "code",
   "execution_count": 43,
   "metadata": {},
   "outputs": [
    {
     "name": "stdout",
     "output_type": "stream",
     "text": [
      "\n",
      "Difference Statistics for Different Sigma Values\n",
      "╒═════════════════════╤═══════════════════════╤══════════════════════╤═══════════════════════╕\n",
      "│ Metric              │   Case 3-Sigma = 0.05 │   Case 1-Sigma = 0.1 │   Case 2- Sigma = 0.2 │\n",
      "╞═════════════════════╪═══════════════════════╪══════════════════════╪═══════════════════════╡\n",
      "│ Mean Difference     │               3.26055 │             0.521847 │              -5.11779 │\n",
      "├─────────────────────┼───────────────────────┼──────────────────────┼───────────────────────┤\n",
      "│ Median Difference   │               4.92554 │             3.75415  │               1.39315 │\n",
      "├─────────────────────┼───────────────────────┼──────────────────────┼───────────────────────┤\n",
      "│ Std Dev Difference  │               3.85745 │             7.48237  │              14.9582  │\n",
      "├─────────────────────┼───────────────────────┼──────────────────────┼───────────────────────┤\n",
      "│ Min Difference      │             -22.7483  │           -48.4051   │            -103.686   │\n",
      "├─────────────────────┼───────────────────────┼──────────────────────┼───────────────────────┤\n",
      "│ Max Difference      │               6.16402 │             6.16402  │               6.16402 │\n",
      "├─────────────────────┼───────────────────────┼──────────────────────┼───────────────────────┤\n",
      "│ 5th Percentile      │              -4.73899 │           -15.1481   │             -36.5845  │\n",
      "├─────────────────────┼───────────────────────┼──────────────────────┼───────────────────────┤\n",
      "│ 95th Percentile     │               6.16402 │             6.16402  │               6.16402 │\n",
      "├─────────────────────┼───────────────────────┼──────────────────────┼───────────────────────┤\n",
      "│ Proportion Negative │               0.1753  │             0.3324   │               0.4625  │\n",
      "╘═════════════════════╧═══════════════════════╧══════════════════════╧═══════════════════════╛\n"
     ]
    }
   ],
   "source": [
    "header = \"Difference Statistics for Different Sigma Values\"\n",
    "all_difference_table = [\n",
    "    [\"Metric\", \"Case 3-Sigma = 0.05\", \"Case 1-Sigma = 0.1\", \"Case 2- Sigma = 0.2\"],\n",
    "    [\"Mean Difference\",mean_difference3, mean_difference, mean_difference2 ],\n",
    "    [\"Median Difference\",median_difference3, median_difference, median_difference2],\n",
    "    [\"Std Dev Difference\",std_dev_difference3, std_dev_difference, std_dev_difference2 ],\n",
    "    [\"Min Difference\",min_difference3, min_difference, min_difference2],\n",
    "    [\"Max Difference\",max_difference3, max_difference, max_difference2],\n",
    "    [\"5th Percentile\",percentile_5th3, percentile_5th, percentile_5th2 ],\n",
    "    [\"95th Percentile\",percentile_95th3, percentile_95th, percentile_95th2],\n",
    "    [\"Proportion Negative\",proportion_negative3, proportion_negative, proportion_negative2],\n",
    "]\n",
    "\n",
    "# Display the inverted table for all three sets of difference statistics\n",
    "all_difference_table_str = tabulate(all_difference_table, headers=\"firstrow\", tablefmt=\"fancy_grid\")\n",
    "print(f\"\\n{header}\\n{all_difference_table_str}\")"
   ]
  },
  {
   "attachments": {},
   "cell_type": "markdown",
   "metadata": {},
   "source": [
    "It's essential for investors to carefully consider the impact of volatility on the hedging strategy, balancing potential gains with the associated risks in different market conditions.The sensitivity analysis underscores the critical impact of exchange rate volatility on the Asian put hedging strategy.\n",
    "\n",
    "The table reveals the sensitivity of the results to changes in the exchange rate volatility parameter (σ). Notably, as volatility increases (Case 2 with σ = 0.20), the mean difference becomes negative, indicating a potential shift in performance. The higher standard deviation and proportion of negative differences in Case 2 suggest increased variability and a greater likelihood of negative outcomes.\n",
    "\n",
    "Conversely, when volatility decreases (Case 3 with σ = 0.05), the mean difference and standard deviation decrease. The results indicate a more stable performance with lower volatility, as reflected in the narrower range of differences. The proportion of negative differences also decreases, suggesting a reduced likelihood of unfavorable outcomes.\n",
    "\n",
    "The results demonstrate that the statistical differences between the two sets of data are highly sensitive to changes in exchange rate volatility. Higher volatility (Case 2) leads to more significant negative differences, while lower volatility (Case 3) results in more positive differences. Understanding this sensitivity is crucial for interpreting and making decisions based on the statistical measures, as they are influenced by the underlying market conditions.\n",
    "\n",
    "All in all, the lower the sigma is, the performance is significantly better, whether looking at the mean or examining the variance. Case 3 with a lower volatility of σ = 0.05 exhibits more positive mean differences and a reduced standard deviation, indicating not only a more favorable average performance but also a more consistent and stable outcome. This emphasizes the importance of carefully managing and selecting volatility levels in the context of the Asian put hedging strategy. Investors should strive to strike a balance between potential gains and the associated risks, with a keen awareness that lower volatility may contribute to more reliable and positive outcomes in the hedging strategy."
   ]
  }
 ],
 "metadata": {
  "kernelspec": {
   "display_name": "hecfin",
   "language": "python",
   "name": "python3"
  },
  "language_info": {
   "codemirror_mode": {
    "name": "ipython",
    "version": 3
   },
   "file_extension": ".py",
   "mimetype": "text/x-python",
   "name": "python",
   "nbconvert_exporter": "python",
   "pygments_lexer": "ipython3",
   "version": "3.10.10"
  },
  "orig_nbformat": 4,
  "vscode": {
   "interpreter": {
    "hash": "eb8ef5b55e0a46d9306074355b06a9668e097a281b36fa19e69c0859eb466ccd"
   }
  }
 },
 "nbformat": 4,
 "nbformat_minor": 2
}
